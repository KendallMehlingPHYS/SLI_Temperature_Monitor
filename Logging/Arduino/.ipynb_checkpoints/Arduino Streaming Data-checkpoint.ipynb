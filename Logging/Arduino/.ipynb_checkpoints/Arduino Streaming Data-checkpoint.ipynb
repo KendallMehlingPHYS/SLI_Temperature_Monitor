{
 "cells": [
  {
   "cell_type": "markdown",
   "id": "9822ff7d",
   "metadata": {},
   "source": [
    "Author: Kendall Mehling\n",
    "Date: 8/6/2023\n",
    "Purpose: To read in serial data from a Arduino or Teensy microcontroller and to save data to a local (daily) file for live plotting of the temperature of the SLI enclosure. "
   ]
  },
  {
   "cell_type": "code",
   "execution_count": 187,
   "id": "eb372adf",
   "metadata": {},
   "outputs": [],
   "source": [
    "## Necessary packages to import ##\n",
    "import serial\n",
    "import numpy as np\n",
    "import json\n",
    "import os\n",
    "from datetime import date, datetime"
   ]
  },
  {
   "cell_type": "code",
   "execution_count": 227,
   "id": "bc6d857a",
   "metadata": {},
   "outputs": [
    {
     "name": "stdout",
     "output_type": "stream",
     "text": [
      "{'000': [[], []], '001': [[], []], '010': [[], []], '011': [[], []], '100': [[], []], '101': [[], []], '110': [[], []], '111': [[], []]}\n",
      "SLI_Temperature_Data2023-08-07.txt\n"
     ]
    }
   ],
   "source": [
    "## Sets up the initial list of dicitionaries that will be saved to a local file. This is rather arbitrary but was defined\n",
    "## for ease of plotting alongside the original Sr plotter. \n",
    "addresses = ['000', '001', '010', '011', '100', '101', '110', '111']\n",
    "Tempdict = {}\n",
    "for add in addresses:\n",
    "    Tempdict[add] = [[],[]]\n",
    "Tempdict = [Tempdict]\n",
    "today = date.today() #Gets todays date for new save file\n",
    "filename = \"SLI_Temperature_Data{}.txt\".format(today)  # File to save our list of dictionaries to \n",
    "print(filename)"
   ]
  },
  {
   "cell_type": "code",
   "execution_count": 196,
   "id": "d3c5ba96",
   "metadata": {},
   "outputs": [],
   "source": [
    "def read_daily_data():\n",
    "    ser = serial.Serial('COM8', 9600, timeout=.25)  #Establish connection to serial data transfer. Set timeout to wait time in C-code.\n",
    "    print(\"Successful connection to Serial Port\")\n",
    "    data_day = datetime.now().day\n",
    "    while data_day == datetime.now().day:           #Collect data one day at a time. Once midnight occurs start a new data file.\n",
    "        line = str(ser.readline()).strip(\"b'\")      #Cleans up serial data input\n",
    "        if any(chr.isdigit() for chr in line):      #Makes sure receiving numbers\n",
    "            address = line.split(\" \")[0]            #Address (3-bit) is the first data transmitted \n",
    "            ssm = round((datetime.now() - datetime.now().replace(hour=0, minute=0, second=0, microsecond=0)).total_seconds()) #ssm =seconds since midnight\n",
    "            val = float(line.split(\" \")[1])         #Splits into ssm and the ADC value\n",
    "            print(address, val)\n",
    "            Tempdict[0][address][0].append(ssm)     #Timestamp of transfer\n",
    "            Tempdict[0][address][1].append(val)     #ADC Value for given sensor\n",
    "            if address == \"111\":                    #Once all sensors have been read, save the data to file\n",
    "                with open(\"SLI_Temperature_Data{}.txt\".format(today), \"w\") as outfile:\n",
    "                    for line in Tempdict:\n",
    "                        json.dump(line, outfile)\n",
    "                        outfile.write(\"\\n\")\n",
    "                print(\"Successfully saved to file: SLI_Temperature_Data{}.txt\".format(today))\n",
    "\n",
    "    print(\"Saved the data for the day to {}\".format(filename))  #save the file for one last time at the end of the day. \n",
    "    return\n",
    "\n"
   ]
  },
  {
   "cell_type": "code",
   "execution_count": 197,
   "id": "f55644f8",
   "metadata": {
    "scrolled": false
   },
   "outputs": [
    {
     "name": "stdout",
     "output_type": "stream",
     "text": [
      "Successful connection to Serial Port\n",
      "000 206.0\n",
      "001 42.0\n"
     ]
    },
    {
     "ename": "KeyError",
     "evalue": "'001'",
     "output_type": "error",
     "traceback": [
      "\u001b[1;31m---------------------------------------------------------------------------\u001b[0m",
      "\u001b[1;31mKeyError\u001b[0m                                  Traceback (most recent call last)",
      "\u001b[1;32m<ipython-input-197-3b1d3c8f0882>\u001b[0m in \u001b[0;36m<module>\u001b[1;34m\u001b[0m\n\u001b[1;32m----> 1\u001b[1;33m \u001b[0mread_daily_data\u001b[0m\u001b[1;33m(\u001b[0m\u001b[1;33m)\u001b[0m\u001b[1;33m\u001b[0m\u001b[1;33m\u001b[0m\u001b[0m\n\u001b[0m",
      "\u001b[1;32m<ipython-input-196-e7cc7a4f0491>\u001b[0m in \u001b[0;36mread_daily_data\u001b[1;34m()\u001b[0m\n\u001b[0;32m     10\u001b[0m             \u001b[0mval\u001b[0m \u001b[1;33m=\u001b[0m \u001b[0mfloat\u001b[0m\u001b[1;33m(\u001b[0m\u001b[0mline\u001b[0m\u001b[1;33m.\u001b[0m\u001b[0msplit\u001b[0m\u001b[1;33m(\u001b[0m\u001b[1;34m\" \"\u001b[0m\u001b[1;33m)\u001b[0m\u001b[1;33m[\u001b[0m\u001b[1;36m1\u001b[0m\u001b[1;33m]\u001b[0m\u001b[1;33m)\u001b[0m         \u001b[1;31m#Splits into ssm and the ADC value\u001b[0m\u001b[1;33m\u001b[0m\u001b[1;33m\u001b[0m\u001b[0m\n\u001b[0;32m     11\u001b[0m             \u001b[0mprint\u001b[0m\u001b[1;33m(\u001b[0m\u001b[0maddress\u001b[0m\u001b[1;33m,\u001b[0m \u001b[0mval\u001b[0m\u001b[1;33m)\u001b[0m\u001b[1;33m\u001b[0m\u001b[1;33m\u001b[0m\u001b[0m\n\u001b[1;32m---> 12\u001b[1;33m             \u001b[0mTempdict\u001b[0m\u001b[1;33m[\u001b[0m\u001b[1;36m0\u001b[0m\u001b[1;33m]\u001b[0m\u001b[1;33m[\u001b[0m\u001b[0maddress\u001b[0m\u001b[1;33m]\u001b[0m\u001b[1;33m[\u001b[0m\u001b[1;36m0\u001b[0m\u001b[1;33m]\u001b[0m\u001b[1;33m.\u001b[0m\u001b[0mappend\u001b[0m\u001b[1;33m(\u001b[0m\u001b[0mssm\u001b[0m\u001b[1;33m)\u001b[0m     \u001b[1;31m#Timestamp of transfer\u001b[0m\u001b[1;33m\u001b[0m\u001b[1;33m\u001b[0m\u001b[0m\n\u001b[0m\u001b[0;32m     13\u001b[0m             \u001b[0mTempdict\u001b[0m\u001b[1;33m[\u001b[0m\u001b[1;36m0\u001b[0m\u001b[1;33m]\u001b[0m\u001b[1;33m[\u001b[0m\u001b[0maddress\u001b[0m\u001b[1;33m]\u001b[0m\u001b[1;33m[\u001b[0m\u001b[1;36m1\u001b[0m\u001b[1;33m]\u001b[0m\u001b[1;33m.\u001b[0m\u001b[0mappend\u001b[0m\u001b[1;33m(\u001b[0m\u001b[0mval\u001b[0m\u001b[1;33m)\u001b[0m     \u001b[1;31m#ADC Value for given sensor\u001b[0m\u001b[1;33m\u001b[0m\u001b[1;33m\u001b[0m\u001b[0m\n\u001b[0;32m     14\u001b[0m             \u001b[1;32mif\u001b[0m \u001b[0maddress\u001b[0m \u001b[1;33m==\u001b[0m \u001b[1;34m\"111\"\u001b[0m\u001b[1;33m:\u001b[0m                    \u001b[1;31m#Once all sensors have been read, save the data to file\u001b[0m\u001b[1;33m\u001b[0m\u001b[1;33m\u001b[0m\u001b[0m\n",
      "\u001b[1;31mKeyError\u001b[0m: '001'"
     ]
    }
   ],
   "source": [
    "read_daily_data()"
   ]
  },
  {
   "cell_type": "code",
   "execution_count": 223,
   "id": "86dee6cd",
   "metadata": {},
   "outputs": [
    {
     "data": {
      "text/plain": [
       "{'000': [[], []]}"
      ]
     },
     "execution_count": 223,
     "metadata": {},
     "output_type": "execute_result"
    }
   ],
   "source": [
    "[Tempdict][0][0]"
   ]
  },
  {
   "cell_type": "code",
   "execution_count": 225,
   "id": "710cf647",
   "metadata": {},
   "outputs": [],
   "source": [
    "a = {}\n",
    "a[\"hi\"] = 2"
   ]
  },
  {
   "cell_type": "code",
   "execution_count": 226,
   "id": "d1514455",
   "metadata": {},
   "outputs": [
    {
     "data": {
      "text/plain": [
       "{'hi': 2}"
      ]
     },
     "execution_count": 226,
     "metadata": {},
     "output_type": "execute_result"
    }
   ],
   "source": [
    "a"
   ]
  },
  {
   "cell_type": "code",
   "execution_count": null,
   "id": "a9e495ef",
   "metadata": {},
   "outputs": [],
   "source": []
  }
 ],
 "metadata": {
  "kernelspec": {
   "display_name": "Python 3",
   "language": "python",
   "name": "python3"
  },
  "language_info": {
   "codemirror_mode": {
    "name": "ipython",
    "version": 3
   },
   "file_extension": ".py",
   "mimetype": "text/x-python",
   "name": "python",
   "nbconvert_exporter": "python",
   "pygments_lexer": "ipython3",
   "version": "3.8.8"
  }
 },
 "nbformat": 4,
 "nbformat_minor": 5
}

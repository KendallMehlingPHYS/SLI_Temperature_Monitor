{
 "cells": [
  {
   "cell_type": "code",
   "execution_count": 130,
   "id": "eb372adf",
   "metadata": {},
   "outputs": [],
   "source": [
    "import serial\n",
    "import numpy as np\n",
    "import json\n",
    "import os\n",
    "from datetime import date, datetime"
   ]
  },
  {
   "cell_type": "code",
   "execution_count": 131,
   "id": "4d8a91ee",
   "metadata": {},
   "outputs": [
    {
     "name": "stdout",
     "output_type": "stream",
     "text": [
      "55235\n"
     ]
    }
   ],
   "source": [
    "from datetime import datetime\n",
    "\n",
    "now = datetime.now()\n",
    "seconds_since_midnight = round((now - now.replace(hour=0, minute=0, second=0, microsecond=0)).total_seconds())\n",
    "print(seconds_since_midnight)"
   ]
  },
  {
   "cell_type": "code",
   "execution_count": 150,
   "id": "a2ab0466",
   "metadata": {},
   "outputs": [
    {
     "data": {
      "text/plain": [
       "{'001': [[], []]}"
      ]
     },
     "execution_count": 150,
     "metadata": {},
     "output_type": "execute_result"
    }
   ],
   "source": [
    "addresses = [\"000\", \"001\", \"010\", \"011\", \"100\", \"101\", \"110\", \"111\"]\n",
    "data_dict = []\n",
    "for add in addresses:\n",
    "    data_dict.append({add:[[],[]]})\n",
    "data_dict\n",
    "data_dict[1]"
   ]
  },
  {
   "cell_type": "code",
   "execution_count": 171,
   "id": "d3c5ba96",
   "metadata": {},
   "outputs": [],
   "source": [
    "Tempdict = [{\"000\":[[],[]], \"001\":[[],[]], \"010\":[[],[]], \"011\":[[],[]], \"100\":[[],[]], \"101\":[[],[]], \"110\":[[],[]], \"111\":[[],[]]}] #Initial Dictionary we will update\n",
    "today = date.today()\n",
    "filename = \"SLI_Temperature_Data{}.txt\".format(today)\n",
    "def read_daily_data():\n",
    "    ser = serial.Serial('COM8', 9600, timeout=.25)\n",
    "    print(\"successful connection to Serial Port\")\n",
    "    data_day = datetime.now().day\n",
    "    while data_day == datetime.now().day:\n",
    "        line = str(ser.readline()).strip(\"b'\")\n",
    "        if any(chr.isdigit() for chr in line):\n",
    "            address = line.split(\" \")[0]\n",
    "            ssm = round((datetime.now() - datetime.now().replace(hour=0, minute=0, second=0, microsecond=0)).total_seconds()) #ssm =seconds since midnight\n",
    "            val = float(line.split(\" \")[1])\n",
    "            print(address, val)\n",
    "            Tempdict[0][address][0].append(ssm)\n",
    "            Tempdict[0][address][1].append(val)\n",
    "            if address == \"111\":\n",
    "                with open(\"SLI_Temperature_Data{}.txt\".format(today), \"w\") as outfile:\n",
    "                    for line in Tempdict:\n",
    "                        json.dump(line, outfile)\n",
    "                        outfile.write(\"\\n\")\n",
    "                print(\"Successfully saved to file: SLI_Temperature_Data{}.txt\".format(today))\n",
    "\n",
    "    print(\"Saved the data for the day to {}\".format(filename))\n",
    "    return\n",
    "\n"
   ]
  },
  {
   "cell_type": "code",
   "execution_count": 172,
   "id": "2d389fa6",
   "metadata": {},
   "outputs": [
    {
     "data": {
      "text/plain": [
       "[{'000': [[], []],\n",
       "  '001': [[], []],\n",
       "  '010': [[], []],\n",
       "  '011': [[], []],\n",
       "  '100': [[], []],\n",
       "  '101': [[], []],\n",
       "  '110': [[], []],\n",
       "  '111': [[], []]}]"
      ]
     },
     "execution_count": 172,
     "metadata": {},
     "output_type": "execute_result"
    }
   ],
   "source": [
    "Tempdict"
   ]
  },
  {
   "cell_type": "code",
   "execution_count": 173,
   "id": "f55644f8",
   "metadata": {
    "scrolled": false
   },
   "outputs": [
    {
     "name": "stdout",
     "output_type": "stream",
     "text": [
      "successful connection to Serial Port\n",
      "000 209.0\n",
      "001 49.0\n",
      "010 13.0\n",
      "011 15.0\n",
      "100 14.0\n",
      "101 14.0\n",
      "110 13.0\n",
      "111 14.0\n",
      "Successfully saved to file: SLI_Temperature_Data2023-08-06.txt\n",
      "000 25.0\n",
      "001 14.0\n",
      "010 13.0\n",
      "011 12.0\n",
      "100 11.0\n",
      "101 15.0\n",
      "110 13.0\n",
      "111 12.0\n",
      "Successfully saved to file: SLI_Temperature_Data2023-08-06.txt\n",
      "000 25.0\n",
      "001 14.0\n",
      "010 14.0\n",
      "011 12.0\n",
      "100 12.0\n",
      "101 14.0\n",
      "110 14.0\n",
      "111 14.0\n",
      "Successfully saved to file: SLI_Temperature_Data2023-08-06.txt\n",
      "000 24.0\n",
      "001 13.0\n",
      "010 15.0\n",
      "011 14.0\n",
      "100 14.0\n"
     ]
    },
    {
     "ename": "SerialException",
     "evalue": "ClearCommError failed (PermissionError(13, 'The device does not recognize the command.', None, 22))",
     "output_type": "error",
     "traceback": [
      "\u001b[1;31m---------------------------------------------------------------------------\u001b[0m",
      "\u001b[1;31mSerialException\u001b[0m                           Traceback (most recent call last)",
      "\u001b[1;32m<ipython-input-173-3b1d3c8f0882>\u001b[0m in \u001b[0;36m<module>\u001b[1;34m\u001b[0m\n\u001b[1;32m----> 1\u001b[1;33m \u001b[0mread_daily_data\u001b[0m\u001b[1;33m(\u001b[0m\u001b[1;33m)\u001b[0m\u001b[1;33m\u001b[0m\u001b[1;33m\u001b[0m\u001b[0m\n\u001b[0m",
      "\u001b[1;32m<ipython-input-171-2c3ef0c2e7a3>\u001b[0m in \u001b[0;36mread_daily_data\u001b[1;34m()\u001b[0m\n\u001b[0;32m      7\u001b[0m     \u001b[0mdata_day\u001b[0m \u001b[1;33m=\u001b[0m \u001b[0mdatetime\u001b[0m\u001b[1;33m.\u001b[0m\u001b[0mnow\u001b[0m\u001b[1;33m(\u001b[0m\u001b[1;33m)\u001b[0m\u001b[1;33m.\u001b[0m\u001b[0mday\u001b[0m\u001b[1;33m\u001b[0m\u001b[1;33m\u001b[0m\u001b[0m\n\u001b[0;32m      8\u001b[0m     \u001b[1;32mwhile\u001b[0m \u001b[0mdata_day\u001b[0m \u001b[1;33m==\u001b[0m \u001b[0mdatetime\u001b[0m\u001b[1;33m.\u001b[0m\u001b[0mnow\u001b[0m\u001b[1;33m(\u001b[0m\u001b[1;33m)\u001b[0m\u001b[1;33m.\u001b[0m\u001b[0mday\u001b[0m\u001b[1;33m:\u001b[0m\u001b[1;33m\u001b[0m\u001b[1;33m\u001b[0m\u001b[0m\n\u001b[1;32m----> 9\u001b[1;33m         \u001b[0mline\u001b[0m \u001b[1;33m=\u001b[0m \u001b[0mstr\u001b[0m\u001b[1;33m(\u001b[0m\u001b[0mser\u001b[0m\u001b[1;33m.\u001b[0m\u001b[0mreadline\u001b[0m\u001b[1;33m(\u001b[0m\u001b[1;33m)\u001b[0m\u001b[1;33m)\u001b[0m\u001b[1;33m.\u001b[0m\u001b[0mstrip\u001b[0m\u001b[1;33m(\u001b[0m\u001b[1;34m\"b'\"\u001b[0m\u001b[1;33m)\u001b[0m\u001b[1;33m\u001b[0m\u001b[1;33m\u001b[0m\u001b[0m\n\u001b[0m\u001b[0;32m     10\u001b[0m         \u001b[1;32mif\u001b[0m \u001b[0many\u001b[0m\u001b[1;33m(\u001b[0m\u001b[0mchr\u001b[0m\u001b[1;33m.\u001b[0m\u001b[0misdigit\u001b[0m\u001b[1;33m(\u001b[0m\u001b[1;33m)\u001b[0m \u001b[1;32mfor\u001b[0m \u001b[0mchr\u001b[0m \u001b[1;32min\u001b[0m \u001b[0mline\u001b[0m\u001b[1;33m)\u001b[0m\u001b[1;33m:\u001b[0m\u001b[1;33m\u001b[0m\u001b[1;33m\u001b[0m\u001b[0m\n\u001b[0;32m     11\u001b[0m             \u001b[0maddress\u001b[0m \u001b[1;33m=\u001b[0m \u001b[0mline\u001b[0m\u001b[1;33m.\u001b[0m\u001b[0msplit\u001b[0m\u001b[1;33m(\u001b[0m\u001b[1;34m\" \"\u001b[0m\u001b[1;33m)\u001b[0m\u001b[1;33m[\u001b[0m\u001b[1;36m0\u001b[0m\u001b[1;33m]\u001b[0m\u001b[1;33m\u001b[0m\u001b[1;33m\u001b[0m\u001b[0m\n",
      "\u001b[1;32m~\\anaconda3\\lib\\site-packages\\serial\\serialwin32.py\u001b[0m in \u001b[0;36mread\u001b[1;34m(self, size)\u001b[0m\n\u001b[0;32m    273\u001b[0m             \u001b[0mcomstat\u001b[0m \u001b[1;33m=\u001b[0m \u001b[0mwin32\u001b[0m\u001b[1;33m.\u001b[0m\u001b[0mCOMSTAT\u001b[0m\u001b[1;33m(\u001b[0m\u001b[1;33m)\u001b[0m\u001b[1;33m\u001b[0m\u001b[1;33m\u001b[0m\u001b[0m\n\u001b[0;32m    274\u001b[0m             \u001b[1;32mif\u001b[0m \u001b[1;32mnot\u001b[0m \u001b[0mwin32\u001b[0m\u001b[1;33m.\u001b[0m\u001b[0mClearCommError\u001b[0m\u001b[1;33m(\u001b[0m\u001b[0mself\u001b[0m\u001b[1;33m.\u001b[0m\u001b[0m_port_handle\u001b[0m\u001b[1;33m,\u001b[0m \u001b[0mctypes\u001b[0m\u001b[1;33m.\u001b[0m\u001b[0mbyref\u001b[0m\u001b[1;33m(\u001b[0m\u001b[0mflags\u001b[0m\u001b[1;33m)\u001b[0m\u001b[1;33m,\u001b[0m \u001b[0mctypes\u001b[0m\u001b[1;33m.\u001b[0m\u001b[0mbyref\u001b[0m\u001b[1;33m(\u001b[0m\u001b[0mcomstat\u001b[0m\u001b[1;33m)\u001b[0m\u001b[1;33m)\u001b[0m\u001b[1;33m:\u001b[0m\u001b[1;33m\u001b[0m\u001b[1;33m\u001b[0m\u001b[0m\n\u001b[1;32m--> 275\u001b[1;33m                 \u001b[1;32mraise\u001b[0m \u001b[0mSerialException\u001b[0m\u001b[1;33m(\u001b[0m\u001b[1;34m\"ClearCommError failed ({!r})\"\u001b[0m\u001b[1;33m.\u001b[0m\u001b[0mformat\u001b[0m\u001b[1;33m(\u001b[0m\u001b[0mctypes\u001b[0m\u001b[1;33m.\u001b[0m\u001b[0mWinError\u001b[0m\u001b[1;33m(\u001b[0m\u001b[1;33m)\u001b[0m\u001b[1;33m)\u001b[0m\u001b[1;33m)\u001b[0m\u001b[1;33m\u001b[0m\u001b[1;33m\u001b[0m\u001b[0m\n\u001b[0m\u001b[0;32m    276\u001b[0m             \u001b[0mn\u001b[0m \u001b[1;33m=\u001b[0m \u001b[0mmin\u001b[0m\u001b[1;33m(\u001b[0m\u001b[0mcomstat\u001b[0m\u001b[1;33m.\u001b[0m\u001b[0mcbInQue\u001b[0m\u001b[1;33m,\u001b[0m \u001b[0msize\u001b[0m\u001b[1;33m)\u001b[0m \u001b[1;32mif\u001b[0m \u001b[0mself\u001b[0m\u001b[1;33m.\u001b[0m\u001b[0mtimeout\u001b[0m \u001b[1;33m==\u001b[0m \u001b[1;36m0\u001b[0m \u001b[1;32melse\u001b[0m \u001b[0msize\u001b[0m\u001b[1;33m\u001b[0m\u001b[1;33m\u001b[0m\u001b[0m\n\u001b[0;32m    277\u001b[0m             \u001b[1;32mif\u001b[0m \u001b[0mn\u001b[0m \u001b[1;33m>\u001b[0m \u001b[1;36m0\u001b[0m\u001b[1;33m:\u001b[0m\u001b[1;33m\u001b[0m\u001b[1;33m\u001b[0m\u001b[0m\n",
      "\u001b[1;31mSerialException\u001b[0m: ClearCommError failed (PermissionError(13, 'The device does not recognize the command.', None, 22))"
     ]
    }
   ],
   "source": [
    "read_daily_data()"
   ]
  },
  {
   "cell_type": "code",
   "execution_count": 142,
   "id": "7f60aefd",
   "metadata": {},
   "outputs": [],
   "source": [
    "Tempdict = [{\"000\":[[1],[3]]}, {\"001\":[2]}, {\"010\":[4]}, {\"011\":[]}, {\"100\":[]}, {\"101\":[]}, {\"110\":[]}, {\"111\":[]}] #Initial Dictionary we will update"
   ]
  },
  {
   "cell_type": "code",
   "execution_count": 42,
   "id": "00011795",
   "metadata": {},
   "outputs": [
    {
     "name": "stdout",
     "output_type": "stream",
     "text": [
      "000\n",
      "001\n",
      "010\n",
      "011\n",
      "100\n",
      "101\n",
      "110\n",
      "111\n"
     ]
    }
   ],
   "source": [
    "for value in Tempdict:\n",
    "    print(list(value.keys())[0])"
   ]
  },
  {
   "cell_type": "code",
   "execution_count": 80,
   "id": "c225250f",
   "metadata": {},
   "outputs": [
    {
     "data": {
      "text/plain": [
       "{'000': [[61814,\n",
       "   61834,\n",
       "   61851,\n",
       "   61868,\n",
       "   61887,\n",
       "   61899,\n",
       "   61917,\n",
       "   61935,\n",
       "   61958,\n",
       "   61976,\n",
       "   61994,\n",
       "   62012,\n",
       "   62030,\n",
       "   1,\n",
       "   1,\n",
       "   1],\n",
       "  [365.0,\n",
       "   239001.0,\n",
       "   235001.0,\n",
       "   235.0,\n",
       "   236.0,\n",
       "   357.0,\n",
       "   238.0,\n",
       "   236.0,\n",
       "   415.0,\n",
       "   240.0,\n",
       "   235.0,\n",
       "   235.0,\n",
       "   235.0]],\n",
       " '001': [[61816,\n",
       "   61869,\n",
       "   61888,\n",
       "   61900,\n",
       "   61919,\n",
       "   61936,\n",
       "   61960,\n",
       "   61978,\n",
       "   61995,\n",
       "   62013,\n",
       "   62031],\n",
       "  [329010.0,\n",
       "   223.0,\n",
       "   222.0,\n",
       "   323.0,\n",
       "   223010.0,\n",
       "   223.0,\n",
       "   374010.0,\n",
       "   226010.0,\n",
       "   221.0,\n",
       "   222.0,\n",
       "   222.0]],\n",
       " '010': [[61854, 61870, 61889, 61901, 61997, 62014],\n",
       "  [212011.0, 212.0, 212.0, 294.0, 211011.0, 212.0]],\n",
       " '011': [[61817, 61835, 61871, 61889, 61902, 61920, 61961, 61979, 62016],\n",
       "  [275.0, 205.0, 203.0, 203.0, 270.0, 205.0, 308.0, 205.0, 204100.0]],\n",
       " '100': [[61818, 61836, 61872, 61904, 61922, 61964, 61982, 62000],\n",
       "  [255.0, 198.0, 197.0, 250101.0, 199101.0, 282101.0, 198101.0, 197101.0]],\n",
       " '101': [[61819, 61837, 61857, 61874, 62019],\n",
       "  [238.0, 192.0, 191110.0, 192110.0, 193110.0]],\n",
       " '110': [[61820, 61838, 61905, 61923], [224.0, 188.0, 220.0, 189.0]],\n",
       " '111': [[61821, 61839, 61876, 61906, 61924, 61965, 61983, 62001],\n",
       "  [213.0, 185.0, 186.0, 210.0, 186.0, 228.0, 186.0, 185.0]]}"
      ]
     },
     "execution_count": 80,
     "metadata": {},
     "output_type": "execute_result"
    }
   ],
   "source": [
    "Tempdict[\"000\"][0].append(1)\n",
    "Tempdict"
   ]
  },
  {
   "cell_type": "code",
   "execution_count": 86,
   "id": "edb30eae",
   "metadata": {},
   "outputs": [
    {
     "name": "stdout",
     "output_type": "stream",
     "text": [
      "{'000': [[1], [3]]}\n",
      "{'001': [2]}\n",
      "{'010': [4]}\n",
      "{'011': []}\n",
      "{'100': []}\n",
      "{'101': []}\n",
      "{'110': []}\n",
      "{'111': []}\n"
     ]
    }
   ],
   "source": [
    " import json\n",
    " output_file = open(\"output.txt\", 'w', encoding='utf-8')\n",
    " for dic in list(Tempdict):\n",
    "    print(dic)\n",
    "    json.dump(dic, output_file) \n",
    "    output_file.write(\"\\n\")"
   ]
  },
  {
   "cell_type": "code",
   "execution_count": 95,
   "id": "7d13d059",
   "metadata": {},
   "outputs": [
    {
     "data": {
      "text/plain": [
       "[[1, 1, 1, 1, 1], []]"
      ]
     },
     "execution_count": 95,
     "metadata": {},
     "output_type": "execute_result"
    }
   ],
   "source": [
    "Tempdict[0]['100'][0].append(1)\n",
    "Tempdict[0]['100']"
   ]
  },
  {
   "cell_type": "code",
   "execution_count": 121,
   "id": "a5bdd8e2",
   "metadata": {},
   "outputs": [],
   "source": [
    "k = [[1,2,3],[4,5,6]]"
   ]
  },
  {
   "cell_type": "code",
   "execution_count": 124,
   "id": "19852715",
   "metadata": {},
   "outputs": [
    {
     "data": {
      "text/plain": [
       "[4, 5, 6]"
      ]
     },
     "execution_count": 124,
     "metadata": {},
     "output_type": "execute_result"
    }
   ],
   "source": [
    "k[1][:]"
   ]
  },
  {
   "cell_type": "code",
   "execution_count": 126,
   "id": "a46283f3",
   "metadata": {},
   "outputs": [
    {
     "data": {
      "text/plain": [
       "[1, 4]"
      ]
     },
     "execution_count": 126,
     "metadata": {},
     "output_type": "execute_result"
    }
   ],
   "source": [
    "[item[0] for item in k]\n",
    "#return [item[0] for item in lst]"
   ]
  },
  {
   "cell_type": "code",
   "execution_count": null,
   "id": "7151b741",
   "metadata": {},
   "outputs": [],
   "source": []
  }
 ],
 "metadata": {
  "kernelspec": {
   "display_name": "Python 3",
   "language": "python",
   "name": "python3"
  },
  "language_info": {
   "codemirror_mode": {
    "name": "ipython",
    "version": 3
   },
   "file_extension": ".py",
   "mimetype": "text/x-python",
   "name": "python",
   "nbconvert_exporter": "python",
   "pygments_lexer": "ipython3",
   "version": "3.8.8"
  }
 },
 "nbformat": 4,
 "nbformat_minor": 5
}
